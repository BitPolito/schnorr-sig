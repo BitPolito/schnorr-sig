{
    "cells": [
        {
            "cell_type": "markdown",
            "metadata": {},
            "source": [
                "## Key pair generation"
            ]
        },
        {
            "cell_type": "markdown",
            "metadata": {},
            "source": [
                "## Sign\n",
                "\n",
                "- M message\n",
                "- A, the signer, pick a random $k, 1 < k < n$ and calculate $R = kG$\n",
                "- A calculate $e = h(R || M)$\n",
                "- A calculate $s = (k + de) mod n$\n",
                "- The signature is the pair $(R, s)$ "
            ]
        },
        {
            "cell_type": "code",
            "execution_count": 10,
            "metadata": {},
            "outputs": [
                {
                    "name": "stdout",
                    "output_type": "stream",
                    "text": [
                        "hola\n"
                    ]
                }
            ],
            "source": [
                "import schnorr_lib as sl\n",
                "\n",
                "print(sl.sha256(\"prova\".encode()))"
            ]
        },
        {
            "cell_type": "markdown",
            "metadata": {},
            "source": [
                "## Verify\n",
                "\n",
                "- B, the receiver, calculates $R_{v} = sG$\n",
                "- B calculats $e = h(R || M)$\n",
                "- if $R_{v} - R = eP$ the signature is valid"
            ]
        }
    ],
    "metadata": {
        "interpreter": {
            "hash": "57358cf5f4913248e7ac461105d7557af272d59485a79d39fdf7eef7a4e1f358"
        },
        "kernelspec": {
            "display_name": "Python 3.10.0 64-bit",
            "name": "python3"
        },
        "language_info": {
            "codemirror_mode": {
                "name": "ipython",
                "version": 3
            },
            "file_extension": ".py",
            "mimetype": "text/x-python",
            "name": "python",
            "nbconvert_exporter": "python",
            "pygments_lexer": "ipython3",
            "version": "3.10.0"
        },
        "orig_nbformat": 4
    },
    "nbformat": 4,
    "nbformat_minor": 2
}
