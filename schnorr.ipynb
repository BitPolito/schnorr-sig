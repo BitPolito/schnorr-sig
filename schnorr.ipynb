{
 "cells": [
  {
   "cell_type": "markdown",
   "metadata": {},
   "source": [
    "## Key pair generation"
   ]
  },
  {
   "cell_type": "markdown",
   "metadata": {
    "pycharm": {
     "name": "#%% md\n"
    }
   },
   "source": [
    "- E is an elliptic curve, N is the order of the curve\n",
    "- G is a generator and h is an hash function\n",
    "- The user chooses his secret key d, $0 < d < N$\n",
    "- The user computes his public key $P = dG = (P_x, P_y)$\n"
   ]
  },
  {
   "cell_type": "markdown",
   "metadata": {},
   "source": [
    "## Schnorr Sign\n",
    "\n",
    "- M message, d is the private key, P = dG is the public key\n",
    "- A, the signer, picks a random k, $1 < k < n$ and calculates $R = kG$\n",
    "- A calculates $e = h(R || P || M)$\n",
    "- A calculates $s = (k + ed) \\mod n$\n",
    "- The signature is the pair $(R_x, s)$ "
   ]
  },
  {
   "cell_type": "code",
   "execution_count": 1,
   "metadata": {},
   "outputs": [
    {
     "name": "stdout",
     "output_type": "stream",
     "text": [
      "ciao\n"
     ]
    }
   ],
   "source": []
  },
  {
   "cell_type": "markdown",
   "metadata": {},
   "source": [
    "## Verify\n",
    "\n",
    "- B, the receiver, calculates $R_{v} = sG$\n",
    "- B calculates $e = h(R || P || M)$\n",
    "- if $R_{v} - R = eP$ the signature is valid"
   ]
  },
  {
   "cell_type": "code",
   "execution_count": null,
   "metadata": {},
   "outputs": [],
   "source": []
  },
  {
   "cell_type": "markdown",
   "metadata": {},
   "source": [
    "## Schnorr MuSig-1\n",
    "\n",
    "- $L = h(P_1 || ... ||P_n)$, where n is the number of users and $P_i$ is the public key of the $i^{th}$ user\n",
    "- Every user computes the quantity $a_i = h(L||P_i)$\n",
    "- The aggregate $\\tilde{X} = \\sum_{i=1}^{n} a_i P_i$ is a public parameter\n",
    "- Every user chooses $r_i$ and computes $R_i = r_i G$, then he sends to everyone\n",
    "else the commit $t_i = h(R_i)$\n",
    "- Upon reception of the other $n − 1$ commitments, every user sends $R_i$ to the\n",
    "other users\n",
    "- Upon reception of the other $n − 1$ R-points, every user checks if effectively\n",
    "$t_i = h(R_i)$ holds for $i \\in [1,...,n]$\n",
    "- Every user computes the point $R = R_1+...+R_n =(R_x,R_y)$\n",
    "- Every user computes $c = h(\\tilde{X}̃_x ||Rx ||M)$\n",
    "- Every user computes $s_i = r_i + cd_i a_i mod N$, then the aggregate is $s=s_1+...+s_n modN$\n",
    "- The signature is the couple $(R_x,s)$"
   ]
  },
  {
   "cell_type": "code",
   "execution_count": null,
   "metadata": {},
   "outputs": [],
   "source": []
  },
  {
   "cell_type": "markdown",
   "metadata": {},
   "source": [
    "## Schnorr MuSig-2\n",
    "\n",
    "- Compute $L$, $a_i = h(L||P_i )$ and $̃\\tilde{X}$ as before\n",
    "- Each user $i$ chooses $\\nu$ different nonces $r_{i,1}, . . . , r_{i,ν}$ and computes the points\n",
    "$R_{i,j} = r_{i,j}G$, $\\forall j \\in \\{1,...,\\nu\\}$\n",
    "- Compute $R_j = \\sum_{i=1}^{n} R_{i,j}, \\; \\forall j \\in \\{1,...,\\nu\\}$\n",
    "- Compute the hash $b = h(\\tilde{X}̃||R_1||...||R_{\\nu}||M)$, then compute $R = \\sum_{j=1}^{\\nu} b^{j-1} R_{j}$\n",
    "- Compute the hash $c = h(\\tilde{X}̃||R||M)$, then every user computes\n",
    "$s_i=c a_i d_i+\\sum_{j=1}^{\\nu} r_{i,j}\\; b^{j−1}\\; mod N$\n",
    "- Compute $s=s_1+...+s_n\\; mod N$\n",
    "- The signature is the couple $(R_x,s)$."
   ]
  },
  {
   "cell_type": "code",
   "execution_count": null,
   "metadata": {},
   "outputs": [],
   "source": []
  },
  {
   "cell_type": "markdown",
   "metadata": {},
   "source": [
    "## Verify MuSig-1 and MuSig-2\n",
    "\n",
    "- Check if $sG = R + c \\tilde{X}$"
   ]
  },
  {
   "cell_type": "code",
   "execution_count": null,
   "metadata": {},
   "outputs": [],
   "source": []
  }
 ],
 "metadata": {
  "interpreter": {
   "hash": "57358cf5f4913248e7ac461105d7557af272d59485a79d39fdf7eef7a4e1f358"
  },
  "kernelspec": {
   "display_name": "Python 3",
   "language": "python",
   "name": "python3"
  },
  "language_info": {
   "codemirror_mode": {
    "name": "ipython",
    "version": 3
   },
   "file_extension": ".py",
   "mimetype": "text/x-python",
   "name": "python",
   "nbconvert_exporter": "python",
   "pygments_lexer": "ipython3",
   "version": "3.8.9"
  }
 },
 "nbformat": 4,
 "nbformat_minor": 2
}