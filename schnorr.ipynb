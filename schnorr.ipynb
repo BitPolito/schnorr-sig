{
 "cells": [
  {
   "cell_type": "code",
   "execution_count": 3,
   "outputs": [],
   "source": [
    "import create_keypair as ckp\n",
    "import schnorr_lib as sl"
   ],
   "metadata": {
    "collapsed": false,
    "pycharm": {
     "name": "#%%\n"
    }
   }
  },
  {
   "cell_type": "markdown",
   "metadata": {},
   "source": [
    "## Key pair generation"
   ]
  },
  {
   "cell_type": "markdown",
   "metadata": {
    "pycharm": {
     "name": "#%% md\n"
    }
   },
   "source": [
    "- $E$ is an elliptic curve, $N$ is the order of the curve\n",
    "- $G$ is a generator and $h$ is an hash function\n",
    "- The user chooses his secret key $d$, $0 < d < N$\n",
    "- The user computes his public key $P = dG = (P_x, P_y)$"
   ]
  },
  {
   "cell_type": "code",
   "execution_count": 7,
   "outputs": [
    {
     "data": {
      "text/plain": "[{'privateKey': 'ed3ae4265b952f15e1139f488f24164b2e5ae14a83fbb6a9bc303d781a1f4130',\n  'publicKey': 'fe6fe4545590ef5c1788e87faef481deeb04c0c2184f5209d0bf39318a7d9fef'},\n {'privateKey': 'b1407fb0a9048d980102555c3c15ee23d16f9eb4a9ee6772c08b95d559ef337d',\n  'publicKey': 'c83652660670b5e313a21cad358dc8fc6a6d1011ded50525d9e184b7c13558bc'}]"
     },
     "execution_count": 7,
     "metadata": {},
     "output_type": "execute_result"
    }
   ],
   "source": [
    "n_keys = int(input(\"Inserisci il numero di chiavi:\"))\n",
    "\n",
    "ckp.create_keypair(n_keys)[\"users\"]"
   ],
   "metadata": {
    "collapsed": false,
    "pycharm": {
     "name": "#%%\n"
    }
   }
  },
  {
   "cell_type": "markdown",
   "metadata": {},
   "source": [
    "## Schnorr Sign\n",
    "\n",
    "- $M$ message, $d$ is the private key, $P = dG$ is the public key\n",
    "- $A$, the signer, picks a random $k$, $1 < k < n$ and calculates $R = kG$\n",
    "- A calculates $e = h(R || P || M)$\n",
    "- A calculates $s = (k + ed) \\mod n$\n",
    "- The signature is the pair $(R_x, s)$ "
   ]
  },
  {
   "cell_type": "code",
   "execution_count": 9,
   "metadata": {},
   "outputs": [
    {
     "data": {
      "text/plain": "'e11a636804d81e02cdcdf06e583a14d573de3fadfe0f787558e39e45599a822fb592773a3c6de062e3b966a162e0f262987c7a6a60392f61f495747500d6b2d0'"
     },
     "execution_count": 9,
     "metadata": {},
     "output_type": "execute_result"
    }
   ],
   "source": [
    "user = ckp.create_keypair(1)[\"users\"]\n",
    "\n",
    "M = input(\"Inserisci il messaggio:\")\n",
    "\n",
    "M = sl.sha256(M.encode())\n",
    "\n",
    "sig = sl.schnorr_sign(M, user[0][\"privateKey\"])\n",
    "\n",
    "sig.hex()"
   ]
  },
  {
   "cell_type": "markdown",
   "metadata": {},
   "source": [
    "## Verify\n",
    "\n",
    "- $B$, the receiver, calculates $R_{v} = sG$\n",
    "- $B$ calculates $e = h(R || P || M)$\n",
    "- if $R_{v} - R = eP$ the signature is valid"
   ]
  },
  {
   "cell_type": "code",
   "execution_count": 2,
   "metadata": {},
   "outputs": [],
   "source": []
  },
  {
   "cell_type": "markdown",
   "metadata": {},
   "source": [
    "## Schnorr MuSig-1\n",
    "\n",
    "- $L = h(P_1 || ... ||P_n)$, where n is the number of users and $P_i$ is the public key of the $i^{th}$ user\n",
    "- Every user computes the quantity $a_i = h(L||P_i)$\n",
    "- The aggregate $\\tilde{X} = \\sum\\limits_{i=1}^{n} a_i P_i$ is a public parameter\n",
    "- Every user chooses $r_i$ and computes $R_i = r_i G$\n",
    "- Every user computes the point $R = R_1+...+R_n =(R_x,R_y)$\n",
    "- Every user computes $c = h(\\tilde{X}̃||R||M)$\n",
    "- Every user computes $s_i = r_i + c\\; d_i\\; a_i \\mod N$, then the aggregate is $s=s_1+...+s_n \\mod N$\n",
    "- The signature is the couple $(R_x,s)$"
   ]
  },
  {
   "cell_type": "code",
   "execution_count": 2,
   "metadata": {},
   "outputs": [],
   "source": []
  },
  {
   "cell_type": "markdown",
   "metadata": {},
   "source": [
    "## Schnorr MuSig-2\n",
    "\n",
    "- Compute $L$, $a_i = h(L||P_i )$ and $̃\\tilde{X}$ as before\n",
    "- Each user $i$ chooses $\\nu$ different nonces $r_{i,1}, . . . , r_{i,ν}$ and computes the points\n",
    "$R_{i,j} = r_{i,j}G$, $\\forall j \\in \\{1,...,\\nu\\}$\n",
    "- Compute $R_j = \\sum\\limits_{i=1}^{n} R_{i,j}, \\; \\forall j \\in \\{1,...,\\nu\\}$\n",
    "- Compute the hash $b = h(\\tilde{X}̃||R_1||...||R_{\\nu}||M)$, then compute $R = \\sum\\limits_{j=1}^{\\nu} b^{j-1} R_{j}$\n",
    "- Compute the hash $c = h(\\tilde{X}̃||R||M)$, then every user computes\n",
    "$s_i=c a_id_i+\\sum\\limits_{j=1}^{\\nu} r_{i,j}\\; b^{j−1} \\mod N$\n",
    "- Compute $s=s_1+...+s_n \\mod N$\n",
    "- The signature is the couple $(R_x,s)$."
   ]
  },
  {
   "cell_type": "code",
   "execution_count": 2,
   "metadata": {},
   "outputs": [],
   "source": []
  },
  {
   "cell_type": "markdown",
   "metadata": {},
   "source": [
    "## Verify MuSig-1 and MuSig-2\n",
    "\n",
    "- Check if $sG = R + c \\tilde{X}$"
   ]
  },
  {
   "cell_type": "code",
   "execution_count": 2,
   "metadata": {},
   "outputs": [],
   "source": []
  }
 ],
 "metadata": {
  "interpreter": {
   "hash": "57358cf5f4913248e7ac461105d7557af272d59485a79d39fdf7eef7a4e1f358"
  },
  "kernelspec": {
   "display_name": "Python 3",
   "language": "python",
   "name": "python3"
  },
  "language_info": {
   "codemirror_mode": {
    "name": "ipython",
    "version": 3
   },
   "file_extension": ".py",
   "mimetype": "text/x-python",
   "name": "python",
   "nbconvert_exporter": "python",
   "pygments_lexer": "ipython3",
   "version": "3.8.9"
  }
 },
 "nbformat": 4,
 "nbformat_minor": 2
}