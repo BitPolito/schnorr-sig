{
    "cells": [
        {
            "cell_type": "markdown",
            "source": [
                "## Key pair generation"
            ],
            "metadata": {}
        },
        {
            "cell_type": "markdown",
            "source": [
                "## Sign\r\n",
                "\r\n",
                "- M message\r\n",
                "- A, the signer, pick a random $k, 1 < k < n$ and calculate $R = kG$\r\n",
                "- A calculate $e = h(R || M)$\r\n",
                "- A calculate $s = (k + de) mod n$\r\n",
                "- The signature is the pair $(R, s)$ "
            ],
            "metadata": {}
        },
        {
            "cell_type": "markdown",
            "source": [
                "## Verify\r\n",
                "\r\n",
                "- B, the receiver, calculates $R_{v} = sG$\r\n",
                "- B calculats $e = h(R || M)$\r\n",
                "- if $R_{v} - R = eP$ the signature is valid"
            ],
            "metadata": {}
        }
    ],
    "metadata": {
        "orig_nbformat": 4,
        "language_info": {
            "name": "python"
        }
    },
    "nbformat": 4,
    "nbformat_minor": 2
}