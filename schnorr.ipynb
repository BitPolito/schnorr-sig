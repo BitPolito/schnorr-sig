{
 "cells": [
  {
   "cell_type": "markdown",
   "metadata": {},
   "source": [
    "# Schnorr digital signatures and verification\n",
    "## Key pair generation"
   ]
  },
  {
   "cell_type": "markdown",
   "metadata": {
    "pycharm": {
     "name": "#%% md\n"
    }
   },
   "source": [
    "- $E$ is an elliptic curve, $N$ is the order of the curve\n",
    "- $G$ is a generator and $h$ is an hash function\n",
    "- The user chooses his secret key $d$, $0 < d < N$\n",
    "- The user computes the point $P = dG = (P_x, P_y)$: his public key is the $x$-coordinate, $P_x$"
   ]
  },
  {
   "cell_type": "code",
   "execution_count": null,
   "metadata": {
    "pycharm": {
     "name": "#%%\n"
    }
   },
   "outputs": [],
   "source": [
    "import create_keypair as ckp\n",
    "import schnorr_lib as sl\n",
    "\n",
    "n_keys = int(input(\"Insert the number of keys to be generated:\"))\n",
    "\n",
    "ckp.create_keypair(n_keys)[\"users\"]"
   ]
  },
  {
   "cell_type": "markdown",
   "metadata": {},
   "source": [
    "## Schnorr Sign\n",
    "\n",
    "- $M$ message, $d$ is the private key, the $x$-coordinate of $P = dG$ is the public key\n",
    "- $A$, the signer, picks a random $k$, $1 < k < n$ and calculates $R = kG$\n",
    "- A computes $e = h(R || P || M)$\n",
    "- A computes $s = (k + ed) \\mod n$\n",
    "- The signature is the pair $(R_x, s)$ "
   ]
  },
  {
   "cell_type": "code",
   "execution_count": null,
   "metadata": {},
   "outputs": [],
   "source": [
    "import create_keypair as ckp\n",
    "import schnorr_lib as sl\n",
    "\n",
    "user = ckp.create_keypair(1)[\"users\"]\n",
    "\n",
    "M = input(\"Insert the message to sign:\")\n",
    "M = sl.sha256(M.encode())\n",
    "\n",
    "sig = sl.schnorr_sign(M, user[0][\"privateKey\"])\n",
    "\n",
    "print(\"PublicKey =\",user[0][\"publicKey\"])\n",
    "print(\"Signature =\",sig.hex())"
   ]
  },
  {
   "cell_type": "markdown",
   "metadata": {},
   "source": [
    "## Schnorr MuSig-1\n",
    "\n",
    "- $L = h(P_1 || ... ||P_n)$, where n is the number of users and $P_i$ is the public key of the $i^{th}$ user\n",
    "- Every user $i$ computes the quantity $a_i = h(L||P_i)$\n",
    "- The aggregate $\\tilde{X} = \\sum\\limits_{i=1}^{n} a_i P_i$ is a public parameter\n",
    "- Every user chooses $r_i$ and computes $R_i = r_i G$\n",
    "- Every user computes the point $R = R_1+...+R_n =(R_x,R_y)$\n",
    "- Every user computes $c = h(R || \\tilde{X}|| M)$\n",
    "- Every user computes $s_i = r_i + cd_i a_i \\mod N$, then the aggregate is $s=s_1+...+s_n \\mod N$\n",
    "- The signature is the couple $(R_x,s)$"
   ]
  },
  {
   "cell_type": "code",
   "execution_count": null,
   "metadata": {
    "scrolled": true
   },
   "outputs": [],
   "source": [
    "import create_keypair as ckp\n",
    "import schnorr_lib as sl\n",
    "\n",
    "n_keys = int(input(\"Insert the number of keys to be generated:\"))\n",
    "users = ckp.create_keypair(n_keys)[\"users\"]\n",
    "\n",
    "M = input(\"Insert the message to sign:\")\n",
    "M = sl.sha256(M.encode())\n",
    "\n",
    "sig, X = sl.schnorr_musig_sign(M, users)\n",
    "\n",
    "print(\"Aggregated key =\",X.hex())\n",
    "print(\"Signature =\",sig.hex())"
   ]
  },
  {
   "cell_type": "markdown",
   "metadata": {},
   "source": [
    "## Schnorr MuSig-2\n",
    "\n",
    "- Compute $L$, $a_i = h(L||P_i )$ and $\\tilde{X}$ as before\n",
    "- Each user $i$ chooses $\\nu$ different nonces $r_{i,1}, . . . , r_{i,ν}$ and computes the points\n",
    "$R_{i,j} = r_{i,j}G$, $\\forall j \\in \\{1,...,\\nu\\}$\n",
    "- Compute $R_j = \\sum\\limits_{i=1}^{n} R_{i,j}, \\; \\forall j \\in \\{1,...,\\nu\\}$\n",
    "- Compute the hash $b = h(R_1||...||R_{\\nu}|| \\tilde{X} || M)$, then compute $R = \\sum\\limits_{j=1}^{\\nu} b^{j-1} R_{j}$\n",
    "- Compute the hash $c = h(R || \\tilde{X}||M)$, then every user $i$ computes\n",
    "$s_i=c a_id_i+\\sum\\limits_{j=1}^{\\nu} r_{i,j}\\; b^{j−1} \\mod N$\n",
    "- Compute $s=s_1+...+s_n \\mod N$\n",
    "- The signature is the couple $(R_x,s)$."
   ]
  },
  {
   "cell_type": "code",
   "execution_count": null,
   "metadata": {},
   "outputs": [],
   "source": [
    "import create_keypair as ckp\n",
    "import schnorr_lib as sl\n",
    "\n",
    "n_keys = int(input(\"Insert the number of keys to be generated:\"))\n",
    "users = ckp.create_keypair(n_keys)[\"users\"]\n",
    "\n",
    "M = input(\"Insert the message to sign:\")\n",
    "M = sl.sha256(M.encode())\n",
    "\n",
    "sig, X = sl.schnorr_musig2_sign(M, users)\n",
    "\n",
    "print(\"Aggregated key =\",X.hex())\n",
    "print(\"Signature =\",sig.hex())"
   ]
  },
  {
   "cell_type": "markdown",
   "metadata": {},
   "source": [
    "## Verify Schnorr\n",
    "\n",
    "- $B$, the receiver, computes the point $sG$\n",
    "- $B$ computes $e = h(R || P || M)$ $(P$ is equal to $\\tilde{X}$ in the MuSig cases$)$\n",
    "- if $sG = R + eP$, the signature is valid  $(P$ is equal to $\\tilde{X}$ in the MuSig cases$)$"
   ]
  },
  {
   "cell_type": "code",
   "execution_count": null,
   "metadata": {},
   "outputs": [],
   "source": [
    "import schnorr_lib as sl\n",
    "\n",
    "M = input(\"Insert the message to verify:\")\n",
    "M = sl.sha256(M.encode())\n",
    "\n",
    "pubkey = input(\"Insert the public key (or the aggregated key if MuSig was used):\")\n",
    "pubkey_bytes = bytes.fromhex(pubkey)\n",
    "\n",
    "sig = input(\"Insert the generated sign:\")\n",
    "sig_bytes = bytes.fromhex(sig)\n",
    "\n",
    "result = sl.schnorr_verify(M, pubkey_bytes, sig_bytes)\n",
    "\n",
    "if result:\n",
    "    print(\"The signature is VALID for this message and this public key\")\n",
    "else:\n",
    "    print(\"The signature is NOT VALID for this message and this public key\")"
   ]
  }
 ],
 "metadata": {
  "interpreter": {
   "hash": "57358cf5f4913248e7ac461105d7557af272d59485a79d39fdf7eef7a4e1f358"
  },
  "kernelspec": {
   "display_name": "Python 3 (ipykernel)",
   "language": "python",
   "name": "python3"
  },
  "language_info": {
   "codemirror_mode": {
    "name": "ipython",
    "version": 3
   },
   "file_extension": ".py",
   "mimetype": "text/x-python",
   "name": "python",
   "nbconvert_exporter": "python",
   "pygments_lexer": "ipython3",
   "version": "3.8.10"
  }
 },
 "nbformat": 4,
 "nbformat_minor": 2
}
