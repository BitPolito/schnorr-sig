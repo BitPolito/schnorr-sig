{
 "cells": [
  {
   "cell_type": "markdown",
   "metadata": {},
   "source": [
    "# Schnorr digital signatures and verification\n",
    "## Key pair generation"
   ]
  },
  {
   "cell_type": "markdown",
   "metadata": {
    "pycharm": {
     "name": "#%% md\n"
    }
   },
   "source": [
    "- $E$ is an elliptic curve, $N$ is the order of the curve\n",
    "- $G$ is a generator and $h$ is an hash function\n",
    "- The user chooses his secret key $d$, $0 < d < N$\n",
    "- The user computes his public key $P = dG = (P_x, P_y)$"
   ]
  },
  {
   "cell_type": "code",
   "execution_count": 4,
   "metadata": {
    "collapsed": false,
    "pycharm": {
     "name": "#%%\n"
    }
   },
   "outputs": [
    {
     "data": {
      "text/plain": [
       "[{'privateKey': '1562ab67aacd4362c4126ddc5fb02f81348ac648fd41cc855647309191099567',\n",
       "  'publicKey': '4a6c09fae931499ef8f9e1cf128ad7ce08d862ee428a690444855a541ab16675'},\n",
       " {'privateKey': '374d512bf0b676c1d4146c8c4f511cc5ab8f325bbfa0ad39651f49677aaf738f',\n",
       "  'publicKey': '2191238774dbfad0a24cd7dbc1e8f00b343c225f686ab2ba39ab1b304a9ef20e'},\n",
       " {'privateKey': '0bd7c288980346c80fed43475da5692d67d4b297c8a22265f45c963c1bcf9191',\n",
       "  'publicKey': '0e0a8fc4b6e5521ce502875125bbb2639dfe1945cba6c07a79a40cc6f30c3897'}]"
      ]
     },
     "execution_count": 4,
     "metadata": {},
     "output_type": "execute_result"
    }
   ],
   "source": [
    "import create_keypair as ckp\n",
    "import schnorr_lib as sl\n",
    "\n",
    "n_keys = int(input(\"Insert the number of keys to be generated:\"))\n",
    "\n",
    "ckp.create_keypair(n_keys)[\"users\"]"
   ]
  },
  {
   "cell_type": "markdown",
   "metadata": {},
   "source": [
    "## Schnorr Sign\n",
    "\n",
    "- $M$ message, $d$ is the private key, $P = dG$ is the public key\n",
    "- $A$, the signer, picks a random $k$, $1 < k < n$ and calculates $R = kG$\n",
    "- A calculates $e = h(R || P || M)$\n",
    "- A calculates $s = (k + ed) \\mod n$\n",
    "- The signature is the pair $(R_x, s)$ "
   ]
  },
  {
   "cell_type": "code",
   "execution_count": 8,
   "metadata": {},
   "outputs": [
    {
     "name": "stdout",
     "output_type": "stream",
     "text": [
      "> PublicKey = a1454569bb5a2408251adc19fdf9ec6b0f370496e4af712f6f39aa9291b72575\n",
      "> Signature = 878248f1b840d7c33115de36ff8dbd91e64af6708a8ae2d97668cafe78da70f2410f5f1b6ef8b7fade8470232c28994acc7dc59c05a61a2bd88e87fb68d324db\n"
     ]
    }
   ],
   "source": [
    "import create_keypair as ckp\n",
    "import schnorr_lib as sl\n",
    "\n",
    "user = ckp.create_keypair(1)[\"users\"]\n",
    "\n",
    "M = input(\"Insert the message to sign:\")\n",
    "M = sl.sha256(M.encode())\n",
    "\n",
    "sig = sl.schnorr_sign(M, user[0][\"privateKey\"])\n",
    "\n",
    "print(\"PublicKey =\",user[0][\"publicKey\"])\n",
    "print(\"Signature =\",sig.hex())"
   ]
  },
  {
   "cell_type": "markdown",
   "metadata": {},
   "source": [
    "## Schnorr MuSig-1\n",
    "\n",
    "- $L = h(P_1 || ... ||P_n)$, where n is the number of users and $P_i$ is the public key of the $i^{th}$ user\n",
    "- Every user computes the quantity $a_i = h(L||P_i)$\n",
    "- The aggregate $\\tilde{X} = \\sum\\limits_{i=1}^{n} a_i P_i$ is a public parameter\n",
    "- Every user chooses $r_i$ and computes $R_i = r_i G$\n",
    "- Every user computes the point $R = R_1+...+R_n =(R_x,R_y)$\n",
    "- Every user computes $c = h(\\tilde{X}||R||M)$\n",
    "- Every user computes $s_i = r_i + c\\; d_i\\; a_i \\mod N$, then the aggregate is $s=s_1+...+s_n \\mod N$\n",
    "- The signature is the couple $(R_x,s)$"
   ]
  },
  {
   "cell_type": "code",
   "execution_count": 9,
   "metadata": {},
   "outputs": [
    {
     "name": "stdout",
     "output_type": "stream",
     "text": [
      "PublicKey = b49f684727a1f3febffed24a5116520754659170d3a6e818ea892659d43aab27\n",
      "Signature = 9ba7ea569960e33d68829f489fbdd5c169da4d26b04c02b89f1358b9c98cf5f010b2676e9a39fe59eebb635680a8a8386bf37a98430fc6bc7d27d2836e4d2209\n"
     ]
    }
   ],
   "source": [
    "import create_keypair as ckp\n",
    "import schnorr_lib as sl\n",
    "\n",
    "n_keys = int(input(\"Insert the number of keys to be generated:\"))\n",
    "users = ckp.create_keypair(n_keys)[\"users\"]\n",
    "\n",
    "M = input(\"Insert the message to sign:\")\n",
    "M = sl.sha256(M.encode())\n",
    "\n",
    "sig, X = sl.schnorr_musig_sign(M, users)\n",
    "\n",
    "print(\"Aggregated key =\",X.hex())\n",
    "print(\"Signature =\",sig.hex())"
   ]
  },
  {
   "cell_type": "markdown",
   "metadata": {},
   "source": [
    "## Schnorr MuSig-2\n",
    "\n",
    "- Compute $L$, $a_i = h(L||P_i )$ and $\\tilde{X}$ as before\n",
    "- Each user $i$ chooses $\\nu$ different nonces $r_{i,1}, . . . , r_{i,ν}$ and computes the points\n",
    "$R_{i,j} = r_{i,j}G$, $\\forall j \\in \\{1,...,\\nu\\}$\n",
    "- Compute $R_j = \\sum\\limits_{i=1}^{n} R_{i,j}, \\; \\forall j \\in \\{1,...,\\nu\\}$\n",
    "- Compute the hash $b = h(\\tilde{X}||R_1||...||R_{\\nu}||M)$, then compute $R = \\sum\\limits_{j=1}^{\\nu} b^{j-1} R_{j}$\n",
    "- Compute the hash $c = h(\\tilde{X}||R||M)$, then every user computes\n",
    "$s_i=c a_id_i+\\sum\\limits_{j=1}^{\\nu} r_{i,j}\\; b^{j−1} \\mod N$\n",
    "- Compute $s=s_1+...+s_n \\mod N$\n",
    "- The signature is the couple $(R_x,s)$."
   ]
  },
  {
   "cell_type": "code",
   "execution_count": 5,
   "metadata": {},
   "outputs": [
    {
     "name": "stdout",
     "output_type": "stream",
     "text": [
      "> PublicKey = cc2890b7095f968683f78c58cf487bff57636d3bfadc5d3a806a4b90718473b5\n",
      "> Signature = 9e09d67c2bfa93280c212971491133091fee9df2cebd49a7cc580b588657bce675fa213d5c232e77cd6fff392cc5e0be3c5dcaac897872a4b93e90dcf8ef71e3\n"
     ]
    }
   ],
   "source": [
    "import create_keypair as ckp\n",
    "import schnorr_lib as sl\n",
    "\n",
    "n_keys = int(input(\"Insert the number of keys to be generated:\"))\n",
    "users = ckp.create_keypair(n_keys)[\"users\"]\n",
    "\n",
    "M = input(\"Insert the message to sign:\")\n",
    "M = sl.sha256(M.encode())\n",
    "\n",
    "sig, X = sl.schnorr_musig2_sign(M, users)\n",
    "\n",
    "print(\"Aggregated key =\",X.hex())\n",
    "print(\"Signature =\",sig.hex())"
   ]
  },
  {
   "cell_type": "markdown",
   "metadata": {},
   "source": [
    "## Verify Schnorr\n",
    "\n",
    "- $B$, the receiver, calculates $R_{v} = sG$\n",
    "- $B$ calculates $e = h(R || P || M)$\n",
    "- if $R_{v} - R = eP$ the signature is valid  $(P$ is equal to $\\tilde{X}$ in the MuSig cases $)$"
   ]
  },
  {
   "cell_type": "code",
   "execution_count": 10,
   "metadata": {},
   "outputs": [
    {
     "name": "stdout",
     "output_type": "stream",
     "text": [
      "The signature is valid for this message and this public key\n"
     ]
    }
   ],
   "source": [
    "import schnorr_lib as sl\n",
    "\n",
    "M = input(\"Insert the message to verify:\")\n",
    "M = sl.sha256(M.encode())\n",
    "\n",
    "pubkey = input(\"Insert the public key (or the aggregated key if MuSig was used):\")\n",
    "pubkey_bytes = bytes.fromhex(pubkey)\n",
    "\n",
    "sig = input(\"Insert the generated sign:\")\n",
    "sig_bytes = bytes.fromhex(sig)\n",
    "\n",
    "result = sl.schnorr_verify(M, pubkey_bytes, sig_bytes)\n",
    "\n",
    "if result:\n",
    "    print(\"The signature is VALID for this message and this public key\")\n",
    "else:\n",
    "    print(\"The signature is NOT VALID for this message and this public key\")"
   ]
  }
 ],
 "metadata": {
  "interpreter": {
   "hash": "57358cf5f4913248e7ac461105d7557af272d59485a79d39fdf7eef7a4e1f358"
  },
  "kernelspec": {
   "display_name": "Python 3",
   "language": "python",
   "name": "python3"
  },
  "language_info": {
   "codemirror_mode": {
    "name": "ipython",
    "version": 3
   },
   "file_extension": ".py",
   "mimetype": "text/x-python",
   "name": "python",
   "nbconvert_exporter": "python",
   "pygments_lexer": "ipython3",
   "version": "3.10.0"
  }
 },
 "nbformat": 4,
 "nbformat_minor": 2
}
